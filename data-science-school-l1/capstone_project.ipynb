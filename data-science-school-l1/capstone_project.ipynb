{
  "nbformat": 4,
  "nbformat_minor": 0,
  "metadata": {
    "colab": {
      "name": "Data Science L1 Capstone.ipynb",
      "provenance": [],
      "authorship_tag": "ABX9TyMVrDH24JzZqAYbTNiZdLBl",
      "include_colab_link": true
    },
    "kernelspec": {
      "name": "python3",
      "display_name": "Python 3"
    },
    "language_info": {
      "name": "python"
    }
  },
  "cells": [
    {
      "cell_type": "markdown",
      "metadata": {
        "id": "view-in-github",
        "colab_type": "text"
      },
      "source": [
        "<a href=\"https://colab.research.google.com/github/thedarkrai9/data-science-notebooks/blob/initial-commit/data-science-school-l1/capstone_project.ipynb\" target=\"_parent\"><img src=\"https://colab.research.google.com/assets/colab-badge.svg\" alt=\"Open In Colab\"/></a>"
      ]
    },
    {
      "cell_type": "markdown",
      "metadata": {
        "id": "mHq6IwwL1H4p"
      },
      "source": [
        "#Import libraries first"
      ]
    },
    {
      "cell_type": "code",
      "metadata": {
        "id": "ZzBWH48wXPIa"
      },
      "source": [
        "import pandas as pd \n",
        "import numpy as np\n",
        "import seaborn as sns\n",
        "import matplotlib.pyplot as plt"
      ],
      "execution_count": 2,
      "outputs": []
    },
    {
      "cell_type": "markdown",
      "metadata": {
        "id": "dbaUDn7s1LPP"
      },
      "source": [
        "#Import data"
      ]
    },
    {
      "cell_type": "code",
      "metadata": {
        "id": "vYdAHZmOvFBK"
      },
      "source": [
        "# Import data below into 'df'. This code is for my google drive file\n",
        "# from google.colab import drive\n",
        "# drive.mount('/drive')\n",
        "\n",
        "# Import from github files directly below\n",
        "\n",
        "df_original = pd.read_csv(\"https://raw.githubusercontent.com/thedarkrai9/data-science-notebooks/initial-commit/data-science-school-l1/train.csv\",index_col=0)\n",
        "df_test = pd.read_csv(\"https://raw.githubusercontent.com/thedarkrai9/data-science-notebooks/initial-commit/data-science-school-l1/test.csv\",index_col=0)"
      ],
      "execution_count": 3,
      "outputs": []
    },
    {
      "cell_type": "markdown",
      "metadata": {
        "id": "eFz-I9By1NS4"
      },
      "source": [
        "#Basic analysis of the data"
      ]
    },
    {
      "cell_type": "code",
      "metadata": {
        "colab": {
          "base_uri": "https://localhost:8080/"
        },
        "id": "tdDllVi8w80w",
        "outputId": "bedbdc40-1583-47e1-df0d-1f53f51f271e"
      },
      "source": [
        "print(df_original.count())\n",
        "print(df_original.shape)"
      ],
      "execution_count": 4,
      "outputs": [
        {
          "output_type": "stream",
          "name": "stdout",
          "text": [
            "account_status        600\n",
            "months                600\n",
            "credit_history        600\n",
            "purpose               600\n",
            "credit_amount         600\n",
            "savings               600\n",
            "employment            600\n",
            "installment_rate      600\n",
            "personal_status       600\n",
            "guarantors            600\n",
            "residence             600\n",
            "property              600\n",
            "age                   600\n",
            "other_installments    600\n",
            "housing               600\n",
            "credit_cards          600\n",
            "job                   600\n",
            "dependents            600\n",
            "phone                 600\n",
            "foreign_worker        600\n",
            "credit_rating         600\n",
            "dtype: int64\n",
            "(600, 21)\n"
          ]
        }
      ]
    },
    {
      "cell_type": "code",
      "metadata": {
        "colab": {
          "base_uri": "https://localhost:8080/"
        },
        "id": "lJbLb197xLrI",
        "outputId": "b8da8e30-5062-40bd-d3f6-6b9176f3140e"
      },
      "source": [
        "df_original.info()"
      ],
      "execution_count": null,
      "outputs": [
        {
          "output_type": "stream",
          "name": "stdout",
          "text": [
            "<class 'pandas.core.frame.DataFrame'>\n",
            "RangeIndex: 600 entries, 0 to 599\n",
            "Data columns (total 22 columns):\n",
            " #   Column              Non-Null Count  Dtype \n",
            "---  ------              --------------  ----- \n",
            " 0   id                  600 non-null    int64 \n",
            " 1   account_status      600 non-null    object\n",
            " 2   months              600 non-null    int64 \n",
            " 3   credit_history      600 non-null    object\n",
            " 4   purpose             600 non-null    object\n",
            " 5   credit_amount       600 non-null    int64 \n",
            " 6   savings             600 non-null    object\n",
            " 7   employment          600 non-null    object\n",
            " 8   installment_rate    600 non-null    int64 \n",
            " 9   personal_status     600 non-null    object\n",
            " 10  guarantors          600 non-null    object\n",
            " 11  residence           600 non-null    int64 \n",
            " 12  property            600 non-null    object\n",
            " 13  age                 600 non-null    int64 \n",
            " 14  other_installments  600 non-null    object\n",
            " 15  housing             600 non-null    object\n",
            " 16  credit_cards        600 non-null    int64 \n",
            " 17  job                 600 non-null    object\n",
            " 18  dependents          600 non-null    int64 \n",
            " 19  phone               600 non-null    object\n",
            " 20  foreign_worker      600 non-null    object\n",
            " 21  credit_rating       600 non-null    int64 \n",
            "dtypes: int64(9), object(13)\n",
            "memory usage: 103.2+ KB\n"
          ]
        }
      ]
    },
    {
      "cell_type": "code",
      "metadata": {
        "colab": {
          "base_uri": "https://localhost:8080/",
          "height": 544
        },
        "id": "7DW_KzcR14UX",
        "outputId": "a69bbd9f-e1c6-451a-dbcd-70faecdf2c38"
      },
      "source": [
        "df_original.head()"
      ],
      "execution_count": null,
      "outputs": [
        {
          "output_type": "execute_result",
          "data": {
            "text/html": [
              "<div>\n",
              "<style scoped>\n",
              "    .dataframe tbody tr th:only-of-type {\n",
              "        vertical-align: middle;\n",
              "    }\n",
              "\n",
              "    .dataframe tbody tr th {\n",
              "        vertical-align: top;\n",
              "    }\n",
              "\n",
              "    .dataframe thead th {\n",
              "        text-align: right;\n",
              "    }\n",
              "</style>\n",
              "<table border=\"1\" class=\"dataframe\">\n",
              "  <thead>\n",
              "    <tr style=\"text-align: right;\">\n",
              "      <th></th>\n",
              "      <th>account_status</th>\n",
              "      <th>months</th>\n",
              "      <th>credit_history</th>\n",
              "      <th>purpose</th>\n",
              "      <th>credit_amount</th>\n",
              "      <th>savings</th>\n",
              "      <th>employment</th>\n",
              "      <th>installment_rate</th>\n",
              "      <th>personal_status</th>\n",
              "      <th>guarantors</th>\n",
              "      <th>residence</th>\n",
              "      <th>property</th>\n",
              "      <th>age</th>\n",
              "      <th>other_installments</th>\n",
              "      <th>housing</th>\n",
              "      <th>credit_cards</th>\n",
              "      <th>job</th>\n",
              "      <th>dependents</th>\n",
              "      <th>phone</th>\n",
              "      <th>foreign_worker</th>\n",
              "      <th>credit_rating</th>\n",
              "    </tr>\n",
              "    <tr>\n",
              "      <th>id</th>\n",
              "      <th></th>\n",
              "      <th></th>\n",
              "      <th></th>\n",
              "      <th></th>\n",
              "      <th></th>\n",
              "      <th></th>\n",
              "      <th></th>\n",
              "      <th></th>\n",
              "      <th></th>\n",
              "      <th></th>\n",
              "      <th></th>\n",
              "      <th></th>\n",
              "      <th></th>\n",
              "      <th></th>\n",
              "      <th></th>\n",
              "      <th></th>\n",
              "      <th></th>\n",
              "      <th></th>\n",
              "      <th></th>\n",
              "      <th></th>\n",
              "      <th></th>\n",
              "    </tr>\n",
              "  </thead>\n",
              "  <tbody>\n",
              "    <tr>\n",
              "      <th>1</th>\n",
              "      <td>0 &lt;= x &lt; 200 DM</td>\n",
              "      <td>39</td>\n",
              "      <td>delay in paying off in the past</td>\n",
              "      <td>education</td>\n",
              "      <td>11760</td>\n",
              "      <td>100 &lt;= x &lt; 500 DM</td>\n",
              "      <td>4 &lt;= x &lt; 7 years</td>\n",
              "      <td>2</td>\n",
              "      <td>male - single</td>\n",
              "      <td>none</td>\n",
              "      <td>3</td>\n",
              "      <td>unknown / no property</td>\n",
              "      <td>32</td>\n",
              "      <td>none</td>\n",
              "      <td>rent</td>\n",
              "      <td>1</td>\n",
              "      <td>skilled employee / official</td>\n",
              "      <td>1</td>\n",
              "      <td>yes, registered under the customers name</td>\n",
              "      <td>yes</td>\n",
              "      <td>1</td>\n",
              "    </tr>\n",
              "    <tr>\n",
              "      <th>2</th>\n",
              "      <td>no checking account</td>\n",
              "      <td>36</td>\n",
              "      <td>critical account/ other credits existing (not ...</td>\n",
              "      <td>car (new)</td>\n",
              "      <td>6614</td>\n",
              "      <td>x &lt; 100 DM</td>\n",
              "      <td>x&gt;= 7 years</td>\n",
              "      <td>4</td>\n",
              "      <td>male - single</td>\n",
              "      <td>none</td>\n",
              "      <td>4</td>\n",
              "      <td>car or other, not in attribute Account</td>\n",
              "      <td>34</td>\n",
              "      <td>none</td>\n",
              "      <td>own</td>\n",
              "      <td>2</td>\n",
              "      <td>management/ self-employed/highly qualified emp...</td>\n",
              "      <td>1</td>\n",
              "      <td>yes, registered under the customers name</td>\n",
              "      <td>yes</td>\n",
              "      <td>1</td>\n",
              "    </tr>\n",
              "    <tr>\n",
              "      <th>3</th>\n",
              "      <td>x &lt; 0 DM</td>\n",
              "      <td>30</td>\n",
              "      <td>critical account/ other credits existing (not ...</td>\n",
              "      <td>car (used)</td>\n",
              "      <td>6187</td>\n",
              "      <td>100 &lt;= x &lt; 500 DM</td>\n",
              "      <td>4 &lt;= x &lt; 7 years</td>\n",
              "      <td>1</td>\n",
              "      <td>male - married/widowed</td>\n",
              "      <td>none</td>\n",
              "      <td>4</td>\n",
              "      <td>car or other, not in attribute Account</td>\n",
              "      <td>24</td>\n",
              "      <td>none</td>\n",
              "      <td>rent</td>\n",
              "      <td>2</td>\n",
              "      <td>skilled employee / official</td>\n",
              "      <td>1</td>\n",
              "      <td>none</td>\n",
              "      <td>yes</td>\n",
              "      <td>1</td>\n",
              "    </tr>\n",
              "    <tr>\n",
              "      <th>4</th>\n",
              "      <td>no checking account</td>\n",
              "      <td>24</td>\n",
              "      <td>delay in paying off in the past</td>\n",
              "      <td>furniture/equipment</td>\n",
              "      <td>4151</td>\n",
              "      <td>100 &lt;= x &lt; 500 DM</td>\n",
              "      <td>1 &lt;= x &lt; 4 years</td>\n",
              "      <td>2</td>\n",
              "      <td>male - single</td>\n",
              "      <td>none</td>\n",
              "      <td>3</td>\n",
              "      <td>building society savings agreement/ life insur...</td>\n",
              "      <td>35</td>\n",
              "      <td>none</td>\n",
              "      <td>own</td>\n",
              "      <td>2</td>\n",
              "      <td>skilled employee / official</td>\n",
              "      <td>1</td>\n",
              "      <td>none</td>\n",
              "      <td>yes</td>\n",
              "      <td>1</td>\n",
              "    </tr>\n",
              "    <tr>\n",
              "      <th>5</th>\n",
              "      <td>x &lt; 0 DM</td>\n",
              "      <td>12</td>\n",
              "      <td>existing credits paid back duly till now</td>\n",
              "      <td>radio/television</td>\n",
              "      <td>709</td>\n",
              "      <td>x &lt; 100 DM</td>\n",
              "      <td>x&gt;= 7 years</td>\n",
              "      <td>4</td>\n",
              "      <td>male - single</td>\n",
              "      <td>none</td>\n",
              "      <td>4</td>\n",
              "      <td>real estate</td>\n",
              "      <td>57</td>\n",
              "      <td>stores</td>\n",
              "      <td>own</td>\n",
              "      <td>1</td>\n",
              "      <td>unskilled - resident</td>\n",
              "      <td>1</td>\n",
              "      <td>none</td>\n",
              "      <td>yes</td>\n",
              "      <td>2</td>\n",
              "    </tr>\n",
              "  </tbody>\n",
              "</table>\n",
              "</div>"
            ],
            "text/plain": [
              "          account_status  months  ... foreign_worker credit_rating\n",
              "id                                ...                             \n",
              "1       0 <= x < 200 DM       39  ...           yes              1\n",
              "2   no checking account       36  ...           yes              1\n",
              "3              x < 0 DM       30  ...           yes              1\n",
              "4   no checking account       24  ...           yes              1\n",
              "5              x < 0 DM       12  ...           yes              2\n",
              "\n",
              "[5 rows x 21 columns]"
            ]
          },
          "metadata": {},
          "execution_count": 19
        }
      ]
    },
    {
      "cell_type": "code",
      "metadata": {
        "colab": {
          "base_uri": "https://localhost:8080/"
        },
        "id": "scbUxrhT17Aa",
        "outputId": "24942a3f-624b-4127-92bd-340bd2a6b595"
      },
      "source": [
        "df_original.nunique()"
      ],
      "execution_count": null,
      "outputs": [
        {
          "output_type": "execute_result",
          "data": {
            "text/plain": [
              "account_status          4\n",
              "months                 31\n",
              "credit_history          5\n",
              "purpose                10\n",
              "credit_amount         574\n",
              "savings                 5\n",
              "employment              5\n",
              "installment_rate        4\n",
              "personal_status         4\n",
              "guarantors              3\n",
              "residence               4\n",
              "property                4\n",
              "age                    52\n",
              "other_installments      3\n",
              "housing                 3\n",
              "credit_cards            4\n",
              "job                     4\n",
              "dependents              2\n",
              "phone                   2\n",
              "foreign_worker          2\n",
              "credit_rating           2\n",
              "dtype: int64"
            ]
          },
          "metadata": {},
          "execution_count": 43
        }
      ]
    },
    {
      "cell_type": "code",
      "metadata": {
        "colab": {
          "base_uri": "https://localhost:8080/"
        },
        "id": "U5Cvrhv43Vfh",
        "outputId": "c2cab2c0-3e2c-48c3-b2cd-f570ce4fbbc2"
      },
      "source": [
        "print(df_original['property'].unique())"
      ],
      "execution_count": null,
      "outputs": [
        {
          "output_type": "stream",
          "name": "stdout",
          "text": [
            "4\n",
            "['unknown / no property ' 'car or other, not in attribute Account '\n",
            " 'building society savings agreement/ life insurance ' 'real estate ']\n"
          ]
        }
      ]
    },
    {
      "cell_type": "markdown",
      "metadata": {
        "id": "j4oszy22EG4u"
      },
      "source": [
        "We saw that 3 columns seem to have continuous data and therefore we need to handle them separately (the three columns are: 'months', 'credit_amount', 'age'). Rest seem to be categorical data."
      ]
    },
    {
      "cell_type": "code",
      "metadata": {
        "colab": {
          "base_uri": "https://localhost:8080/",
          "height": 296
        },
        "id": "48Nt45StyYvC",
        "outputId": "5794bf28-0a24-43f0-d8c2-1a7f0230d186"
      },
      "source": [
        "sns.kdeplot(df_original['months'], shade=True)"
      ],
      "execution_count": null,
      "outputs": [
        {
          "output_type": "execute_result",
          "data": {
            "text/plain": [
              "<matplotlib.axes._subplots.AxesSubplot at 0x7fd496dc45d0>"
            ]
          },
          "metadata": {},
          "execution_count": 104
        },
        {
          "output_type": "display_data",
          "data": {
            "image/png": "[encoded data removed]",
            "text/plain": [
              "<Figure size 432x288 with 1 Axes>"
            ]
          },
          "metadata": {
            "needs_background": "light"
          }
        }
      ]
    },
    {
      "cell_type": "code",
      "metadata": {
        "colab": {
          "base_uri": "https://localhost:8080/",
          "height": 296
        },
        "id": "DPhdDyANy7sA",
        "outputId": "d1cbb30f-f4fd-43b6-f8ee-80af96943266"
      },
      "source": [
        "sns.histplot(df_original['months'], bins=5)"
      ],
      "execution_count": null,
      "outputs": [
        {
          "output_type": "execute_result",
          "data": {
            "text/plain": [
              "<matplotlib.axes._subplots.AxesSubplot at 0x7fd4962e9710>"
            ]
          },
          "metadata": {},
          "execution_count": 124
        },
        {
          "output_type": "display_data",
          "data": {
            "image/png": "[encoded data removed]",
            "text/plain": [
              "<Figure size 432x288 with 1 Axes>"
            ]
          },
          "metadata": {
            "needs_background": "light"
          }
        }
      ]
    },
    {
      "cell_type": "code",
      "metadata": {
        "colab": {
          "base_uri": "https://localhost:8080/",
          "height": 297
        },
        "id": "JrlSDHpczQf3",
        "outputId": "948cdaf2-7ac4-4c0c-e21d-4a40dc550db7"
      },
      "source": [
        "sns.histplot(df_original['credit_amount'], bins=10) # 10 quantiles"
      ],
      "execution_count": null,
      "outputs": [
        {
          "output_type": "execute_result",
          "data": {
            "text/plain": [
              "<matplotlib.axes._subplots.AxesSubplot at 0x7fd49490f990>"
            ]
          },
          "metadata": {},
          "execution_count": 125
        },
        {
          "output_type": "display_data",
          "data": {
            "image/png": "[encoded data removed]",
            "text/plain": [
              "<Figure size 432x288 with 1 Axes>"
            ]
          },
          "metadata": {
            "needs_background": "light"
          }
        }
      ]
    },
    {
      "cell_type": "code",
      "metadata": {
        "colab": {
          "base_uri": "https://localhost:8080/",
          "height": 296
        },
        "id": "S91zVS3lzVC5",
        "outputId": "8d047314-74bf-4a47-e44d-b9e83f883f6e"
      },
      "source": [
        "sns.histplot(df_original['age'], bins=10) # 10 quantiles"
      ],
      "execution_count": null,
      "outputs": [
        {
          "output_type": "execute_result",
          "data": {
            "text/plain": [
              "<matplotlib.axes._subplots.AxesSubplot at 0x7fd494569690>"
            ]
          },
          "metadata": {},
          "execution_count": 128
        },
        {
          "output_type": "display_data",
          "data": {
            "image/png": "[encoded data removed]",
            "text/plain": [
              "<Figure size 432x288 with 1 Axes>"
            ]
          },
          "metadata": {
            "needs_background": "light"
          }
        }
      ]
    },
    {
      "cell_type": "markdown",
      "metadata": {
        "id": "YsAkEkYO6NQX"
      },
      "source": [
        "#1. Gaussian Naive Bayes"
      ]
    },
    {
      "cell_type": "markdown",
      "metadata": {
        "id": "7Fa1s9yUD5YH"
      },
      "source": [
        "##Data Preprocessing"
      ]
    },
    {
      "cell_type": "code",
      "metadata": {
        "id": "SXwb6Rrjw9m_"
      },
      "source": [
        "df = df_original.copy()"
      ],
      "execution_count": null,
      "outputs": []
    },
    {
      "cell_type": "code",
      "metadata": {
        "colab": {
          "base_uri": "https://localhost:8080/"
        },
        "id": "cnHrz1HMD4vJ",
        "outputId": "c46d64a3-bcf8-477c-b1f4-9adca5b4ca1f"
      },
      "source": [
        "all_columns = list(df.columns)\n",
        "all_columns.remove('credit_rating') # Don't need to process the output column\n",
        "continuous_columns = ['months', 'credit_amount', 'age']\n",
        "categorical_columns = [ col for col in all_columns if col not in continuous_columns ]\n",
        "\n",
        "print('Continuous columns: ', continuous_columns)\n",
        "print('Categorical columns: ', categorical_columns)"
      ],
      "execution_count": null,
      "outputs": [
        {
          "output_type": "stream",
          "name": "stdout",
          "text": [
            "Continuous columns:  ['months', 'credit_amount', 'age']\n",
            "Categorical columns:  ['account_status', 'credit_history', 'purpose', 'savings', 'employment', 'installment_rate', 'personal_status', 'guarantors', 'residence', 'property', 'other_installments', 'housing', 'credit_cards', 'job', 'dependents', 'phone', 'foreign_worker']\n"
          ]
        }
      ]
    },
    {
      "cell_type": "code",
      "metadata": {
        "colab": {
          "base_uri": "https://localhost:8080/",
          "height": 255
        },
        "id": "Ecu7wGJgsZDg",
        "outputId": "c1ff77d9-0399-4b01-c4ec-ca4df0a1ec32"
      },
      "source": [
        "from sklearn import preprocessing\n",
        "le = preprocessing.LabelEncoder()\n",
        "\n",
        "for col in categorical_columns:\n",
        "  df[col] = le.fit_transform(df[col])\n",
        "\n",
        "df.head()"
      ],
      "execution_count": null,
      "outputs": [
        {
          "output_type": "execute_result",
          "data": {
            "text/html": [
              "<div>\n",
              "<style scoped>\n",
              "    .dataframe tbody tr th:only-of-type {\n",
              "        vertical-align: middle;\n",
              "    }\n",
              "\n",
              "    .dataframe tbody tr th {\n",
              "        vertical-align: top;\n",
              "    }\n",
              "\n",
              "    .dataframe thead th {\n",
              "        text-align: right;\n",
              "    }\n",
              "</style>\n",
              "<table border=\"1\" class=\"dataframe\">\n",
              "  <thead>\n",
              "    <tr style=\"text-align: right;\">\n",
              "      <th></th>\n",
              "      <th>account_status</th>\n",
              "      <th>months</th>\n",
              "      <th>credit_history</th>\n",
              "      <th>purpose</th>\n",
              "      <th>credit_amount</th>\n",
              "      <th>savings</th>\n",
              "      <th>employment</th>\n",
              "      <th>installment_rate</th>\n",
              "      <th>personal_status</th>\n",
              "      <th>guarantors</th>\n",
              "      <th>residence</th>\n",
              "      <th>property</th>\n",
              "      <th>age</th>\n",
              "      <th>other_installments</th>\n",
              "      <th>housing</th>\n",
              "      <th>credit_cards</th>\n",
              "      <th>job</th>\n",
              "      <th>dependents</th>\n",
              "      <th>phone</th>\n",
              "      <th>foreign_worker</th>\n",
              "      <th>credit_rating</th>\n",
              "    </tr>\n",
              "    <tr>\n",
              "      <th>id</th>\n",
              "      <th></th>\n",
              "      <th></th>\n",
              "      <th></th>\n",
              "      <th></th>\n",
              "      <th></th>\n",
              "      <th></th>\n",
              "      <th></th>\n",
              "      <th></th>\n",
              "      <th></th>\n",
              "      <th></th>\n",
              "      <th></th>\n",
              "      <th></th>\n",
              "      <th></th>\n",
              "      <th></th>\n",
              "      <th></th>\n",
              "      <th></th>\n",
              "      <th></th>\n",
              "      <th></th>\n",
              "      <th></th>\n",
              "      <th></th>\n",
              "      <th></th>\n",
              "    </tr>\n",
              "  </thead>\n",
              "  <tbody>\n",
              "    <tr>\n",
              "      <th>1</th>\n",
              "      <td>0</td>\n",
              "      <td>39</td>\n",
              "      <td>2</td>\n",
              "      <td>4</td>\n",
              "      <td>11760</td>\n",
              "      <td>0</td>\n",
              "      <td>1</td>\n",
              "      <td>1</td>\n",
              "      <td>3</td>\n",
              "      <td>2</td>\n",
              "      <td>2</td>\n",
              "      <td>3</td>\n",
              "      <td>32</td>\n",
              "      <td>1</td>\n",
              "      <td>2</td>\n",
              "      <td>0</td>\n",
              "      <td>1</td>\n",
              "      <td>0</td>\n",
              "      <td>1</td>\n",
              "      <td>1</td>\n",
              "      <td>1</td>\n",
              "    </tr>\n",
              "    <tr>\n",
              "      <th>2</th>\n",
              "      <td>1</td>\n",
              "      <td>36</td>\n",
              "      <td>1</td>\n",
              "      <td>1</td>\n",
              "      <td>6614</td>\n",
              "      <td>3</td>\n",
              "      <td>4</td>\n",
              "      <td>3</td>\n",
              "      <td>3</td>\n",
              "      <td>2</td>\n",
              "      <td>3</td>\n",
              "      <td>1</td>\n",
              "      <td>34</td>\n",
              "      <td>1</td>\n",
              "      <td>1</td>\n",
              "      <td>1</td>\n",
              "      <td>0</td>\n",
              "      <td>0</td>\n",
              "      <td>1</td>\n",
              "      <td>1</td>\n",
              "      <td>1</td>\n",
              "    </tr>\n",
              "    <tr>\n",
              "      <th>3</th>\n",
              "      <td>2</td>\n",
              "      <td>30</td>\n",
              "      <td>1</td>\n",
              "      <td>2</td>\n",
              "      <td>6187</td>\n",
              "      <td>0</td>\n",
              "      <td>1</td>\n",
              "      <td>0</td>\n",
              "      <td>2</td>\n",
              "      <td>2</td>\n",
              "      <td>3</td>\n",
              "      <td>1</td>\n",
              "      <td>24</td>\n",
              "      <td>1</td>\n",
              "      <td>2</td>\n",
              "      <td>1</td>\n",
              "      <td>1</td>\n",
              "      <td>0</td>\n",
              "      <td>0</td>\n",
              "      <td>1</td>\n",
              "      <td>1</td>\n",
              "    </tr>\n",
              "    <tr>\n",
              "      <th>4</th>\n",
              "      <td>1</td>\n",
              "      <td>24</td>\n",
              "      <td>2</td>\n",
              "      <td>5</td>\n",
              "      <td>4151</td>\n",
              "      <td>0</td>\n",
              "      <td>0</td>\n",
              "      <td>1</td>\n",
              "      <td>3</td>\n",
              "      <td>2</td>\n",
              "      <td>2</td>\n",
              "      <td>0</td>\n",
              "      <td>35</td>\n",
              "      <td>1</td>\n",
              "      <td>1</td>\n",
              "      <td>1</td>\n",
              "      <td>1</td>\n",
              "      <td>0</td>\n",
              "      <td>0</td>\n",
              "      <td>1</td>\n",
              "      <td>1</td>\n",
              "    </tr>\n",
              "    <tr>\n",
              "      <th>5</th>\n",
              "      <td>2</td>\n",
              "      <td>12</td>\n",
              "      <td>3</td>\n",
              "      <td>7</td>\n",
              "      <td>709</td>\n",
              "      <td>3</td>\n",
              "      <td>4</td>\n",
              "      <td>3</td>\n",
              "      <td>3</td>\n",
              "      <td>2</td>\n",
              "      <td>3</td>\n",
              "      <td>2</td>\n",
              "      <td>57</td>\n",
              "      <td>2</td>\n",
              "      <td>1</td>\n",
              "      <td>0</td>\n",
              "      <td>3</td>\n",
              "      <td>0</td>\n",
              "      <td>0</td>\n",
              "      <td>1</td>\n",
              "      <td>2</td>\n",
              "    </tr>\n",
              "  </tbody>\n",
              "</table>\n",
              "</div>"
            ],
            "text/plain": [
              "    account_status  months  ...  foreign_worker  credit_rating\n",
              "id                          ...                               \n",
              "1                0      39  ...               1              1\n",
              "2                1      36  ...               1              1\n",
              "3                2      30  ...               1              1\n",
              "4                1      24  ...               1              1\n",
              "5                2      12  ...               1              2\n",
              "\n",
              "[5 rows x 21 columns]"
            ]
          },
          "metadata": {},
          "execution_count": 96
        }
      ]
    },
    {
      "cell_type": "code",
      "metadata": {
        "id": "-j2d9zOtxDYM"
      },
      "source": [
        "# Alternatively we can use OrdinalEncoder like below\n",
        "# from sklearn import preprocessing\n",
        "# oe = preprocessing.OrdinalEncoder()\n",
        "\n",
        "# oe.fit()"
      ],
      "execution_count": null,
      "outputs": []
    },
    {
      "cell_type": "markdown",
      "metadata": {
        "id": "iVZqWZIC1j4a"
      },
      "source": [
        "## Model training"
      ]
    },
    {
      "cell_type": "code",
      "metadata": {
        "id": "2k5YYb4F6MPt"
      },
      "source": [
        "from sklearn.model_selection import train_test_split, cross_val_score\n",
        "from sklearn.naive_bayes import GaussianNB"
      ],
      "execution_count": null,
      "outputs": []
    },
    {
      "cell_type": "code",
      "metadata": {
        "id": "DxCR9fb6wAIe"
      },
      "source": [
        "model = GaussianNB()"
      ],
      "execution_count": null,
      "outputs": []
    },
    {
      "cell_type": "markdown",
      "metadata": {
        "id": "vb2l71ff6j73"
      },
      "source": [
        "Generate X and y variables from the data"
      ]
    },
    {
      "cell_type": "code",
      "metadata": {
        "colab": {
          "base_uri": "https://localhost:8080/"
        },
        "id": "PrMcbciB6iU8",
        "outputId": "51af6442-81ce-403b-b620-d3a78dfe42c9"
      },
      "source": [
        "X = df.drop(columns=['credit_rating']).values\n",
        "y = df['credit_rating'].values\n",
        "\n",
        "print(X.shape)\n",
        "print(y.shape)"
      ],
      "execution_count": null,
      "outputs": [
        {
          "output_type": "stream",
          "name": "stdout",
          "text": [
            "(600, 20)\n",
            "(600,)\n"
          ]
        }
      ]
    },
    {
      "cell_type": "code",
      "metadata": {
        "id": "eOdcft6R669P"
      },
      "source": [
        "X_train, X_test, y_train, y_test = train_test_split(X, y, test_size = 0.33, random_state = 0)"
      ],
      "execution_count": null,
      "outputs": []
    },
    {
      "cell_type": "code",
      "metadata": {
        "colab": {
          "base_uri": "https://localhost:8080/"
        },
        "id": "kIal4Ihe9btN",
        "outputId": "51a2813e-e0db-4fc3-acf6-205ecc31deb3"
      },
      "source": [
        "model.fit(X_train, y_train)"
      ],
      "execution_count": null,
      "outputs": [
        {
          "output_type": "execute_result",
          "data": {
            "text/plain": [
              "GaussianNB(priors=None, var_smoothing=1e-09)"
            ]
          },
          "metadata": {},
          "execution_count": 91
        }
      ]
    },
    {
      "cell_type": "code",
      "metadata": {
        "colab": {
          "base_uri": "https://localhost:8080/"
        },
        "id": "CQuxHmeD96mT",
        "outputId": "d754592a-abb9-4a27-ba6b-fc31832d087b"
      },
      "source": [
        "score = model.score(X_test, y_test)\n",
        "print('Accuracy score obtained: ', score)"
      ],
      "execution_count": null,
      "outputs": [
        {
          "output_type": "stream",
          "name": "stdout",
          "text": [
            "Accuracy score obtained:  0.6818181818181818\n"
          ]
        }
      ]
    },
    {
      "cell_type": "code",
      "metadata": {
        "id": "6gpG3znFvhr5"
      },
      "source": [
        ""
      ],
      "execution_count": null,
      "outputs": []
    },
    {
      "cell_type": "markdown",
      "metadata": {
        "id": "YK-CeMyu1qte"
      },
      "source": [
        "# 2. Categorical Naive Bayes"
      ]
    },
    {
      "cell_type": "markdown",
      "metadata": {
        "id": "SAQTISWe1yA-"
      },
      "source": [
        "## Data Preprocessing"
      ]
    },
    {
      "cell_type": "code",
      "metadata": {
        "id": "f2TPDx901vDg"
      },
      "source": [
        "df = df_original.copy()"
      ],
      "execution_count": null,
      "outputs": []
    },
    {
      "cell_type": "code",
      "metadata": {
        "colab": {
          "base_uri": "https://localhost:8080/"
        },
        "id": "FdTqgdut132j",
        "outputId": "6e8b09d5-991e-4824-dccc-3fd235a0d31f"
      },
      "source": [
        "all_columns = list(df.columns)\n",
        "all_columns.remove('credit_rating') # Don't need to process the output column\n",
        "continuous_columns = ['months', 'credit_amount', 'age']\n",
        "categorical_columns = [ col for col in all_columns if col not in continuous_columns ]\n",
        "\n",
        "print('Continuous columns: ', continuous_columns)\n",
        "print('Categorical columns: ', categorical_columns)"
      ],
      "execution_count": null,
      "outputs": [
        {
          "output_type": "stream",
          "name": "stdout",
          "text": [
            "Continuous columns:  ['months', 'credit_amount', 'age']\n",
            "Categorical columns:  ['account_status', 'credit_history', 'purpose', 'savings', 'employment', 'installment_rate', 'personal_status', 'guarantors', 'residence', 'property', 'other_installments', 'housing', 'credit_cards', 'job', 'dependents', 'phone', 'foreign_worker']\n"
          ]
        }
      ]
    },
    {
      "cell_type": "code",
      "metadata": {
        "colab": {
          "base_uri": "https://localhost:8080/",
          "height": 255
        },
        "id": "WIH9MI5j16Kj",
        "outputId": "d982f993-dde4-4c75-ce4c-07b8bb521434"
      },
      "source": [
        "from sklearn import preprocessing\n",
        "le = preprocessing.LabelEncoder()\n",
        "\n",
        "df['months'] = le.fit_transform(pd.qcut(df['months'], 5))\n",
        "df['credit_amount'] = le.fit_transform(pd.qcut(df['credit_amount'], 10))\n",
        "df['age'] = le.fit_transform(pd.qcut(df['age'], 10))\n",
        "\n",
        "for col in categorical_columns:\n",
        "  df[col] = le.fit_transform(df[col])\n",
        "\n",
        "df.head()"
      ],
      "execution_count": null,
      "outputs": [
        {
          "output_type": "execute_result",
          "data": {
            "text/html": [
              "<div>\n",
              "<style scoped>\n",
              "    .dataframe tbody tr th:only-of-type {\n",
              "        vertical-align: middle;\n",
              "    }\n",
              "\n",
              "    .dataframe tbody tr th {\n",
              "        vertical-align: top;\n",
              "    }\n",
              "\n",
              "    .dataframe thead th {\n",
              "        text-align: right;\n",
              "    }\n",
              "</style>\n",
              "<table border=\"1\" class=\"dataframe\">\n",
              "  <thead>\n",
              "    <tr style=\"text-align: right;\">\n",
              "      <th></th>\n",
              "      <th>account_status</th>\n",
              "      <th>months</th>\n",
              "      <th>credit_history</th>\n",
              "      <th>purpose</th>\n",
              "      <th>credit_amount</th>\n",
              "      <th>savings</th>\n",
              "      <th>employment</th>\n",
              "      <th>installment_rate</th>\n",
              "      <th>personal_status</th>\n",
              "      <th>guarantors</th>\n",
              "      <th>residence</th>\n",
              "      <th>property</th>\n",
              "      <th>age</th>\n",
              "      <th>other_installments</th>\n",
              "      <th>housing</th>\n",
              "      <th>credit_cards</th>\n",
              "      <th>job</th>\n",
              "      <th>dependents</th>\n",
              "      <th>phone</th>\n",
              "      <th>foreign_worker</th>\n",
              "      <th>credit_rating</th>\n",
              "    </tr>\n",
              "    <tr>\n",
              "      <th>id</th>\n",
              "      <th></th>\n",
              "      <th></th>\n",
              "      <th></th>\n",
              "      <th></th>\n",
              "      <th></th>\n",
              "      <th></th>\n",
              "      <th></th>\n",
              "      <th></th>\n",
              "      <th></th>\n",
              "      <th></th>\n",
              "      <th></th>\n",
              "      <th></th>\n",
              "      <th></th>\n",
              "      <th></th>\n",
              "      <th></th>\n",
              "      <th></th>\n",
              "      <th></th>\n",
              "      <th></th>\n",
              "      <th></th>\n",
              "      <th></th>\n",
              "      <th></th>\n",
              "    </tr>\n",
              "  </thead>\n",
              "  <tbody>\n",
              "    <tr>\n",
              "      <th>1</th>\n",
              "      <td>0</td>\n",
              "      <td>4</td>\n",
              "      <td>2</td>\n",
              "      <td>4</td>\n",
              "      <td>9</td>\n",
              "      <td>0</td>\n",
              "      <td>1</td>\n",
              "      <td>1</td>\n",
              "      <td>3</td>\n",
              "      <td>2</td>\n",
              "      <td>2</td>\n",
              "      <td>3</td>\n",
              "      <td>4</td>\n",
              "      <td>1</td>\n",
              "      <td>2</td>\n",
              "      <td>0</td>\n",
              "      <td>1</td>\n",
              "      <td>0</td>\n",
              "      <td>1</td>\n",
              "      <td>1</td>\n",
              "      <td>1</td>\n",
              "    </tr>\n",
              "    <tr>\n",
              "      <th>2</th>\n",
              "      <td>1</td>\n",
              "      <td>4</td>\n",
              "      <td>1</td>\n",
              "      <td>1</td>\n",
              "      <td>8</td>\n",
              "      <td>3</td>\n",
              "      <td>4</td>\n",
              "      <td>3</td>\n",
              "      <td>3</td>\n",
              "      <td>2</td>\n",
              "      <td>3</td>\n",
              "      <td>1</td>\n",
              "      <td>5</td>\n",
              "      <td>1</td>\n",
              "      <td>1</td>\n",
              "      <td>1</td>\n",
              "      <td>0</td>\n",
              "      <td>0</td>\n",
              "      <td>1</td>\n",
              "      <td>1</td>\n",
              "      <td>1</td>\n",
              "    </tr>\n",
              "    <tr>\n",
              "      <th>3</th>\n",
              "      <td>2</td>\n",
              "      <td>3</td>\n",
              "      <td>1</td>\n",
              "      <td>2</td>\n",
              "      <td>8</td>\n",
              "      <td>0</td>\n",
              "      <td>1</td>\n",
              "      <td>0</td>\n",
              "      <td>2</td>\n",
              "      <td>2</td>\n",
              "      <td>3</td>\n",
              "      <td>1</td>\n",
              "      <td>1</td>\n",
              "      <td>1</td>\n",
              "      <td>2</td>\n",
              "      <td>1</td>\n",
              "      <td>1</td>\n",
              "      <td>0</td>\n",
              "      <td>0</td>\n",
              "      <td>1</td>\n",
              "      <td>1</td>\n",
              "    </tr>\n",
              "    <tr>\n",
              "      <th>4</th>\n",
              "      <td>1</td>\n",
              "      <td>2</td>\n",
              "      <td>2</td>\n",
              "      <td>5</td>\n",
              "      <td>7</td>\n",
              "      <td>0</td>\n",
              "      <td>0</td>\n",
              "      <td>1</td>\n",
              "      <td>3</td>\n",
              "      <td>2</td>\n",
              "      <td>2</td>\n",
              "      <td>0</td>\n",
              "      <td>5</td>\n",
              "      <td>1</td>\n",
              "      <td>1</td>\n",
              "      <td>1</td>\n",
              "      <td>1</td>\n",
              "      <td>0</td>\n",
              "      <td>0</td>\n",
              "      <td>1</td>\n",
              "      <td>1</td>\n",
              "    </tr>\n",
              "    <tr>\n",
              "      <th>5</th>\n",
              "      <td>2</td>\n",
              "      <td>0</td>\n",
              "      <td>3</td>\n",
              "      <td>7</td>\n",
              "      <td>0</td>\n",
              "      <td>3</td>\n",
              "      <td>4</td>\n",
              "      <td>3</td>\n",
              "      <td>3</td>\n",
              "      <td>2</td>\n",
              "      <td>3</td>\n",
              "      <td>2</td>\n",
              "      <td>9</td>\n",
              "      <td>2</td>\n",
              "      <td>1</td>\n",
              "      <td>0</td>\n",
              "      <td>3</td>\n",
              "      <td>0</td>\n",
              "      <td>0</td>\n",
              "      <td>1</td>\n",
              "      <td>2</td>\n",
              "    </tr>\n",
              "  </tbody>\n",
              "</table>\n",
              "</div>"
            ],
            "text/plain": [
              "    account_status  months  ...  foreign_worker  credit_rating\n",
              "id                          ...                               \n",
              "1                0       4  ...               1              1\n",
              "2                1       4  ...               1              1\n",
              "3                2       3  ...               1              1\n",
              "4                1       2  ...               1              1\n",
              "5                2       0  ...               1              2\n",
              "\n",
              "[5 rows x 21 columns]"
            ]
          },
          "metadata": {},
          "execution_count": 134
        }
      ]
    },
    {
      "cell_type": "markdown",
      "metadata": {
        "id": "mU-MxsQi5tCh"
      },
      "source": [
        "##Model training"
      ]
    },
    {
      "cell_type": "code",
      "metadata": {
        "id": "-ZnLoQu65mzF"
      },
      "source": [
        "from sklearn.model_selection import train_test_split, cross_val_score\n",
        "from sklearn.naive_bayes import CategoricalNB"
      ],
      "execution_count": null,
      "outputs": []
    },
    {
      "cell_type": "code",
      "metadata": {
        "id": "PnAlxLfK5mzH"
      },
      "source": [
        "model = CategoricalNB()"
      ],
      "execution_count": null,
      "outputs": []
    },
    {
      "cell_type": "markdown",
      "metadata": {
        "id": "EOdKen9i5mzJ"
      },
      "source": [
        "Generate X and y variables from the data"
      ]
    },
    {
      "cell_type": "code",
      "metadata": {
        "colab": {
          "base_uri": "https://localhost:8080/"
        },
        "id": "H5KOIEuW5mzK",
        "outputId": "144667c9-b3c0-4ceb-cce5-2fb0996acabb"
      },
      "source": [
        "X = df.drop(columns=['credit_rating']).values\n",
        "y = df['credit_rating'].values\n",
        "\n",
        "print(X.shape)\n",
        "print(y.shape)"
      ],
      "execution_count": null,
      "outputs": [
        {
          "output_type": "stream",
          "name": "stdout",
          "text": [
            "(600, 20)\n",
            "(600,)\n"
          ]
        }
      ]
    },
    {
      "cell_type": "code",
      "metadata": {
        "id": "_ewTzZIe5mzM"
      },
      "source": [
        "X_train, X_test, y_train, y_test = train_test_split(X, y, test_size = 0.33, random_state = 0)"
      ],
      "execution_count": null,
      "outputs": []
    },
    {
      "cell_type": "code",
      "metadata": {
        "colab": {
          "base_uri": "https://localhost:8080/"
        },
        "id": "djmrhjb-5mzN",
        "outputId": "e68b92a0-4d78-41c4-b881-8b6c238861c4"
      },
      "source": [
        "model.fit(X_train, y_train)"
      ],
      "execution_count": null,
      "outputs": [
        {
          "output_type": "execute_result",
          "data": {
            "text/plain": [
              "CategoricalNB(alpha=1.0, class_prior=None, fit_prior=True)"
            ]
          },
          "metadata": {},
          "execution_count": 140
        }
      ]
    },
    {
      "cell_type": "code",
      "metadata": {
        "colab": {
          "base_uri": "https://localhost:8080/"
        },
        "id": "GA2By7Sm5mzO",
        "outputId": "44f233fc-ab24-44e9-c546-c5f0c7fe5bff"
      },
      "source": [
        "score = model.score(X_test, y_test)\n",
        "print('Accuracy score obtained: ', score)"
      ],
      "execution_count": null,
      "outputs": [
        {
          "output_type": "stream",
          "name": "stdout",
          "text": [
            "Accuracy score obtained:  0.7121212121212122\n"
          ]
        }
      ]
    },
    {
      "cell_type": "code",
      "metadata": {
        "id": "TAbZaRw554p0"
      },
      "source": [
        ""
      ],
      "execution_count": null,
      "outputs": []
    },
    {
      "cell_type": "markdown",
      "metadata": {
        "id": "JTNVXsYt6dm1"
      },
      "source": [
        "#3. Mixed Naive Bayes"
      ]
    },
    {
      "cell_type": "markdown",
      "metadata": {
        "id": "DeW40jGd6o-i"
      },
      "source": [
        "## Data Preprocessing"
      ]
    },
    {
      "cell_type": "code",
      "metadata": {
        "id": "li9IJa2U6o-j"
      },
      "source": [
        "df = df_original.copy()"
      ],
      "execution_count": null,
      "outputs": []
    },
    {
      "cell_type": "code",
      "metadata": {
        "colab": {
          "base_uri": "https://localhost:8080/"
        },
        "id": "wv0YheM36o-j",
        "outputId": "b9335501-c713-4f21-da3b-bfae1a2bcfa1"
      },
      "source": [
        "all_columns = list(df.columns)\n",
        "all_columns.remove('credit_rating') # Don't need to process the output column\n",
        "continuous_columns = ['months', 'credit_amount', 'age']\n",
        "categorical_columns = [ col for col in all_columns if col not in continuous_columns ]\n",
        "print('Continuous columns: ', continuous_columns)\n",
        "print('Categorical columns: ', categorical_columns)\n",
        "\n",
        "np_continuous = df[continuous_columns].values\n",
        "df_categorical = df[categorical_columns]\n",
        "y = df['credit_rating'].values"
      ],
      "execution_count": null,
      "outputs": [
        {
          "output_type": "stream",
          "name": "stdout",
          "text": [
            "Continuous columns:  ['months', 'credit_amount', 'age']\n",
            "Categorical columns:  ['account_status', 'credit_history', 'purpose', 'savings', 'employment', 'installment_rate', 'personal_status', 'guarantors', 'residence', 'property', 'other_installments', 'housing', 'credit_cards', 'job', 'dependents', 'phone', 'foreign_worker']\n"
          ]
        }
      ]
    },
    {
      "cell_type": "code",
      "metadata": {
        "colab": {
          "base_uri": "https://localhost:8080/"
        },
        "id": "QHqJqmyk6o-l",
        "outputId": "b1a6e735-f210-4032-a1d1-312feb6f8cef"
      },
      "source": [
        "from sklearn.preprocessing import OrdinalEncoder\n",
        "oe = OrdinalEncoder()\n",
        "\n",
        "np_categorical = oe.fit_transform(df_categorical)\n",
        "\n",
        "# Combine everything into a single - 3 columns with continuous data first\n",
        "np_combined = np.hstack((np_continuous, np_categorical))\n",
        "print(np_final.shape)\n",
        "print(np_final[0:2])"
      ],
      "execution_count": null,
      "outputs": [
        {
          "output_type": "stream",
          "name": "stdout",
          "text": [
            "(600, 20)\n",
            "[[3.900e+01 1.176e+04 3.200e+01 0.000e+00 2.000e+00 4.000e+00 0.000e+00\n",
            "  1.000e+00 1.000e+00 3.000e+00 2.000e+00 2.000e+00 3.000e+00 1.000e+00\n",
            "  2.000e+00 0.000e+00 1.000e+00 0.000e+00 1.000e+00 1.000e+00]\n",
            " [3.600e+01 6.614e+03 3.400e+01 1.000e+00 1.000e+00 1.000e+00 3.000e+00\n",
            "  4.000e+00 3.000e+00 3.000e+00 2.000e+00 3.000e+00 1.000e+00 1.000e+00\n",
            "  1.000e+00 1.000e+00 0.000e+00 0.000e+00 1.000e+00 1.000e+00]]\n"
          ]
        }
      ]
    },
    {
      "cell_type": "markdown",
      "metadata": {
        "id": "NlKcCI7T6o-m"
      },
      "source": [
        "##Model training"
      ]
    },
    {
      "cell_type": "code",
      "metadata": {
        "id": "TGiQ7HXg6o-m"
      },
      "source": [
        "from sklearn.model_selection import train_test_split, cross_val_score\n",
        "from sklearn.naive_bayes import GaussianNB, CategoricalNB"
      ],
      "execution_count": null,
      "outputs": []
    },
    {
      "cell_type": "code",
      "metadata": {
        "id": "ufiSUW5r6o-n"
      },
      "source": [
        "categorical_model = CategoricalNB()\n",
        "continuous_model = GaussianNB()"
      ],
      "execution_count": null,
      "outputs": []
    },
    {
      "cell_type": "markdown",
      "metadata": {
        "id": "obOt_fuS6o-n"
      },
      "source": [
        "Generate X and y variables from the data"
      ]
    },
    {
      "cell_type": "code",
      "metadata": {
        "id": "T-krwxMw6o-o"
      },
      "source": [
        "X_train, X_test, y_train, y_test = train_test_split(np_combined, y, test_size = 0.33, random_state = 0)"
      ],
      "execution_count": null,
      "outputs": []
    },
    {
      "cell_type": "code",
      "metadata": {
        "colab": {
          "base_uri": "https://localhost:8080/"
        },
        "id": "jOxGLbeh6o-p",
        "outputId": "7ddb3d18-158f-440b-82fc-2b94ad43bc01"
      },
      "source": [
        "categorical_model.fit(X_train[:,3:], y_train)\n",
        "continuous_model.fit(X_train[:,0:3], y_train)\n",
        "\n",
        "#Individual model accuracy\n",
        "print(categorical_model.score(X_test[:,3:], y_test))\n",
        "print(continuous_model.score(X_test[:,0:3], y_test))"
      ],
      "execution_count": null,
      "outputs": [
        {
          "output_type": "stream",
          "name": "stdout",
          "text": [
            "0.7070707070707071\n",
            "0.702020202020202\n"
          ]
        }
      ]
    },
    {
      "cell_type": "code",
      "metadata": {
        "id": "18z8lqwd6o-p"
      },
      "source": [
        "categorical_train_probs = categorical_model.predict_proba(X_train[:,3:])\n",
        "continuous_train_probs = continuous_model.predict_proba(X_train[:,0:3])\n",
        "\n",
        "categorical_test_probs = categorical_model.predict_proba(X_test[:,3:])\n",
        "continuous_test_probs = continuous_model.predict_proba(X_test[:,0:3])\n",
        "\n",
        "X_new_train = np.hstack((categorical_train_probs[:,1:2], continuous_train_probs[:,1:2]))\n",
        "X_new_test = np.hstack((categorical_test_probs[:,1:2], continuous_test_probs[:,1:2]))"
      ],
      "execution_count": null,
      "outputs": []
    },
    {
      "cell_type": "code",
      "metadata": {
        "colab": {
          "base_uri": "https://localhost:8080/"
        },
        "id": "Wdmi98dvcYrk",
        "outputId": "af9858a0-1945-4b68-9cc7-a0e3d94f5cea"
      },
      "source": [
        "# print(categorical_train_probs[:,1:2].shape)\n",
        "# print(categorical_train_probs[0:2,1:2])\n",
        "\n",
        "# # print(X_new_train.shape)\n",
        "# # print(X_new_train[0:2])"
      ],
      "execution_count": null,
      "outputs": [
        {
          "output_type": "stream",
          "name": "stdout",
          "text": [
            "(402, 1)\n",
            "[[0.25634895]\n",
            " [0.23522502]]\n"
          ]
        }
      ]
    },
    {
      "cell_type": "code",
      "metadata": {
        "colab": {
          "base_uri": "https://localhost:8080/"
        },
        "id": "puAKi4-G6o-q",
        "outputId": "619c59f7-9e50-447e-cf81-23ad1fb9563d"
      },
      "source": [
        "combined_model = GaussianNB()\n",
        "combined_model.fit(X_new_train, y_train)"
      ],
      "execution_count": null,
      "outputs": [
        {
          "output_type": "execute_result",
          "data": {
            "text/plain": [
              "GaussianNB(priors=None, var_smoothing=1e-09)"
            ]
          },
          "metadata": {},
          "execution_count": 180
        }
      ]
    },
    {
      "cell_type": "code",
      "metadata": {
        "colab": {
          "base_uri": "https://localhost:8080/"
        },
        "id": "QTJFAgH-cKwK",
        "outputId": "350af6f2-17d1-416e-b7a4-5044eef66e0e"
      },
      "source": [
        "score = combined_model.score(X_new_test, y_test)\n",
        "print('Accuracy score obtained: ', score)"
      ],
      "execution_count": null,
      "outputs": [
        {
          "output_type": "stream",
          "name": "stdout",
          "text": [
            "Accuracy score obtained:  0.7222222222222222\n"
          ]
        }
      ]
    },
    {
      "cell_type": "markdown",
      "metadata": {
        "id": "WI3vetqCltlW"
      },
      "source": [
        "#Final submission (using model 3)"
      ]
    },
    {
      "cell_type": "code",
      "metadata": {
        "colab": {
          "base_uri": "https://localhost:8080/"
        },
        "id": "4gBZfHYcdtmg",
        "outputId": "c43c0f4c-a61f-48d8-da8e-df6d537b9a6d"
      },
      "source": [
        "# Preprocess data first\n",
        "df = df_test.copy()\n",
        "all_columns = list(df.columns)\n",
        "if 'credit_rating' in all_columns: all_columns.remove('credit_rating') # Don't need to process the output column\n",
        "continuous_columns = ['months', 'credit_amount', 'age']\n",
        "categorical_columns = [ col for col in all_columns if col not in continuous_columns ]\n",
        "print('Continuous columns: ', continuous_columns)\n",
        "print('Categorical columns: ', categorical_columns)\n",
        "\n",
        "np_continuous = df[continuous_columns].values\n",
        "df_categorical = df[categorical_columns]\n",
        "\n",
        "from sklearn.preprocessing import OrdinalEncoder\n",
        "oe = OrdinalEncoder()\n",
        "\n",
        "np_categorical = oe.fit_transform(df_categorical)\n",
        "\n",
        "# Combine everything into a single - 3 columns with continuous data first\n",
        "np_combined = np.hstack((np_continuous, np_categorical))\n",
        "\n",
        "# Get individual model probabilities\n",
        "continuous_test_probs = continuous_model.predict_proba(np_combined[:,0:3])\n",
        "categorical_test_probs = categorical_model.predict_proba(np_combined[:,3:])\n",
        "\n",
        "# Get input for second model\n",
        "X_new_test = np.hstack((categorical_test_probs[:,1:2], continuous_test_probs[:,1:2]))\n",
        "\n",
        "# Get predictions from combined model\n",
        "y_pred = combined_model.predict(X_new_test)"
      ],
      "execution_count": null,
      "outputs": [
        {
          "output_type": "stream",
          "name": "stdout",
          "text": [
            "Continuous columns:  ['months', 'credit_amount', 'age']\n",
            "Categorical columns:  ['account_status', 'credit_history', 'purpose', 'savings', 'employment', 'installment_rate', 'personal_status', 'guarantors', 'residence', 'property', 'other_installments', 'housing', 'credit_cards', 'job', 'dependents', 'phone', 'foreign_worker']\n"
          ]
        }
      ]
    },
    {
      "cell_type": "code",
      "metadata": {
        "id": "DcL9F8zseda3"
      },
      "source": [
        "df_submission = df.copy()\n",
        "df_submission['credit_rating'] = y_pred\n",
        "df_submission = df_submission[['credit_rating']]\n",
        "\n",
        "# print(df_submission.info())\n",
        "# print(df_submission.head())\n",
        "\n",
        "df_submission.to_csv(\"/drive/My Drive/Data Science School L1 (Aug-Sep 2021)/Capstone Project/prediction.csv\")"
      ],
      "execution_count": null,
      "outputs": []
    },
    {
      "cell_type": "code",
      "metadata": {
        "id": "kFRM1hqQegFG"
      },
      "source": [
        ""
      ],
      "execution_count": null,
      "outputs": []
    }
  ]
}